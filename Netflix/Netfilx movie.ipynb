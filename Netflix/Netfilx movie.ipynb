{
 "cells": [
  {
   "cell_type": "markdown",
   "metadata": {},
   "source": [
    "## Netfilx Movies Dataset Project\n",
    "\n",
    "### Question\n",
    "- what is the most frequent genre of movies released on Netflix\n",
    "- what genres has highest votes?\n",
    "- what movie got the highest popularity? what's its genre?\n",
    "- what movie got the lowest popularity? what's its genre?\n",
    "- which year has the most filmmed movies?"
   ]
  },
  {
   "cell_type": "markdown",
   "metadata": {},
   "source": [
    "------"
   ]
  },
  {
   "cell_type": "code",
   "execution_count": 4,
   "metadata": {},
   "outputs": [],
   "source": [
    "import pandas as pd\n",
    "import numpy as np\n",
    "import matplotlib.pyplot as plt\n",
    "import seaborn as sns"
   ]
  },
  {
   "cell_type": "code",
   "execution_count": 35,
   "metadata": {},
   "outputs": [],
   "source": [
    "df = pd.read_excel(\"D:\\\\Dataset_Practice\\\\Netflix_movies_data.xlsx\")  # Using raw string\n"
   ]
  },
  {
   "cell_type": "code",
   "execution_count": 6,
   "metadata": {},
   "outputs": [
    {
     "data": {
      "text/plain": [
       "Index(['Release_Date', 'Title', 'Overview', 'Popularity', 'Vote_Count',\n",
       "       'Vote_Average', 'Original_Language', 'Genre', 'Poster_Url'],\n",
       "      dtype='object')"
      ]
     },
     "execution_count": 6,
     "metadata": {},
     "output_type": "execute_result"
    }
   ],
   "source": [
    "df.columns"
   ]
  },
  {
   "cell_type": "code",
   "execution_count": 7,
   "metadata": {},
   "outputs": [
    {
     "name": "stdout",
     "output_type": "stream",
     "text": [
      "<class 'pandas.core.frame.DataFrame'>\n",
      "RangeIndex: 9827 entries, 0 to 9826\n",
      "Data columns (total 9 columns):\n",
      " #   Column             Non-Null Count  Dtype  \n",
      "---  ------             --------------  -----  \n",
      " 0   Release_Date       9827 non-null   object \n",
      " 1   Title              9827 non-null   object \n",
      " 2   Overview           9827 non-null   object \n",
      " 3   Popularity         9817 non-null   float64\n",
      " 4   Vote_Count         9817 non-null   float64\n",
      " 5   Vote_Average       9817 non-null   float64\n",
      " 6   Original_Language  9817 non-null   object \n",
      " 7   Genre              9817 non-null   object \n",
      " 8   Poster_Url         9817 non-null   object \n",
      "dtypes: float64(3), object(6)\n",
      "memory usage: 691.1+ KB\n"
     ]
    }
   ],
   "source": [
    "df.info() # to check all columns datatype \n",
    "\n",
    "# this is showing my data type is string so i need to change it and from date column only i need year"
   ]
  },
  {
   "cell_type": "code",
   "execution_count": 8,
   "metadata": {},
   "outputs": [
    {
     "data": {
      "text/plain": [
       "0    Adventure, Fantasy, Science Fiction\n",
       "1         Drama, Horror, Thriller, Crime\n",
       "2                 Drama, Fantasy, Horror\n",
       "3                          Comedy, Drama\n",
       "4                        Fantasy, Horror\n",
       "Name: Genre, dtype: object"
      ]
     },
     "execution_count": 8,
     "metadata": {},
     "output_type": "execute_result"
    }
   ],
   "source": [
    "df['Genre'].head() # check Genre column few details"
   ]
  },
  {
   "cell_type": "code",
   "execution_count": 9,
   "metadata": {},
   "outputs": [
    {
     "data": {
      "text/plain": [
       "0       False\n",
       "1       False\n",
       "2       False\n",
       "3       False\n",
       "4       False\n",
       "        ...  \n",
       "9822    False\n",
       "9823    False\n",
       "9824    False\n",
       "9825    False\n",
       "9826    False\n",
       "Length: 9827, dtype: bool"
      ]
     },
     "execution_count": 9,
     "metadata": {},
     "output_type": "execute_result"
    }
   ],
   "source": [
    "df.duplicated()  # check duplicate values in dataset"
   ]
  },
  {
   "cell_type": "code",
   "execution_count": 10,
   "metadata": {},
   "outputs": [
    {
     "data": {
      "text/plain": [
       "0"
      ]
     },
     "execution_count": 10,
     "metadata": {},
     "output_type": "execute_result"
    }
   ],
   "source": [
    "df.duplicated().sum() # check count of duplicate values"
   ]
  },
  {
   "cell_type": "code",
   "execution_count": 11,
   "metadata": {},
   "outputs": [
    {
     "data": {
      "text/html": [
       "<div>\n",
       "<style scoped>\n",
       "    .dataframe tbody tr th:only-of-type {\n",
       "        vertical-align: middle;\n",
       "    }\n",
       "\n",
       "    .dataframe tbody tr th {\n",
       "        vertical-align: top;\n",
       "    }\n",
       "\n",
       "    .dataframe thead th {\n",
       "        text-align: right;\n",
       "    }\n",
       "</style>\n",
       "<table border=\"1\" class=\"dataframe\">\n",
       "  <thead>\n",
       "    <tr style=\"text-align: right;\">\n",
       "      <th></th>\n",
       "      <th>Popularity</th>\n",
       "      <th>Vote_Count</th>\n",
       "      <th>Vote_Average</th>\n",
       "    </tr>\n",
       "  </thead>\n",
       "  <tbody>\n",
       "    <tr>\n",
       "      <th>count</th>\n",
       "      <td>9817.000000</td>\n",
       "      <td>9817.000000</td>\n",
       "      <td>9817.000000</td>\n",
       "    </tr>\n",
       "    <tr>\n",
       "      <th>mean</th>\n",
       "      <td>40.328772</td>\n",
       "      <td>1393.446165</td>\n",
       "      <td>6.438973</td>\n",
       "    </tr>\n",
       "    <tr>\n",
       "      <th>std</th>\n",
       "      <td>108.926952</td>\n",
       "      <td>2612.006998</td>\n",
       "      <td>1.129787</td>\n",
       "    </tr>\n",
       "    <tr>\n",
       "      <th>min</th>\n",
       "      <td>13.354000</td>\n",
       "      <td>0.000000</td>\n",
       "      <td>0.000000</td>\n",
       "    </tr>\n",
       "    <tr>\n",
       "      <th>25%</th>\n",
       "      <td>16.129000</td>\n",
       "      <td>147.000000</td>\n",
       "      <td>5.900000</td>\n",
       "    </tr>\n",
       "    <tr>\n",
       "      <th>50%</th>\n",
       "      <td>21.191000</td>\n",
       "      <td>444.000000</td>\n",
       "      <td>6.500000</td>\n",
       "    </tr>\n",
       "    <tr>\n",
       "      <th>75%</th>\n",
       "      <td>35.163000</td>\n",
       "      <td>1377.000000</td>\n",
       "      <td>7.100000</td>\n",
       "    </tr>\n",
       "    <tr>\n",
       "      <th>max</th>\n",
       "      <td>5083.954000</td>\n",
       "      <td>31077.000000</td>\n",
       "      <td>10.000000</td>\n",
       "    </tr>\n",
       "  </tbody>\n",
       "</table>\n",
       "</div>"
      ],
      "text/plain": [
       "        Popularity    Vote_Count  Vote_Average\n",
       "count  9817.000000   9817.000000   9817.000000\n",
       "mean     40.328772   1393.446165      6.438973\n",
       "std     108.926952   2612.006998      1.129787\n",
       "min      13.354000      0.000000      0.000000\n",
       "25%      16.129000    147.000000      5.900000\n",
       "50%      21.191000    444.000000      6.500000\n",
       "75%      35.163000   1377.000000      7.100000\n",
       "max    5083.954000  31077.000000     10.000000"
      ]
     },
     "execution_count": 11,
     "metadata": {},
     "output_type": "execute_result"
    }
   ],
   "source": [
    "df.describe()  # this tells about only numerical columns"
   ]
  },
  {
   "cell_type": "code",
   "execution_count": 12,
   "metadata": {},
   "outputs": [],
   "source": [
    "# change datatype of date column\n",
    "df['Release_Date'] = pd.to_datetime(df['Release_Date'], format='%d-%m-%Y')"
   ]
  },
  {
   "cell_type": "code",
   "execution_count": 13,
   "metadata": {},
   "outputs": [],
   "source": [
    "# in the date column extract year only\n",
    "df['Release_Date'] = df['Release_Date'].dt.year\n"
   ]
  },
  {
   "cell_type": "code",
   "execution_count": 14,
   "metadata": {},
   "outputs": [
    {
     "data": {
      "text/plain": [
       "dtype('int32')"
      ]
     },
     "execution_count": 14,
     "metadata": {},
     "output_type": "execute_result"
    }
   ],
   "source": [
    "#check datatype of date column\n",
    "df['Release_Date'].dtypes"
   ]
  },
  {
   "cell_type": "code",
   "execution_count": 15,
   "metadata": {},
   "outputs": [],
   "source": [
    "# Create a variable for those columns which needs to drop from dataset because those columns no requirement\n",
    "cols = ['Overview','Original_Language','Poster_Url']\n"
   ]
  },
  {
   "cell_type": "code",
   "execution_count": 16,
   "metadata": {},
   "outputs": [],
   "source": [
    "df.drop(cols , axis= 1, inplace= True)"
   ]
  },
  {
   "cell_type": "code",
   "execution_count": 17,
   "metadata": {},
   "outputs": [
    {
     "data": {
      "text/plain": [
       "Index(['Release_Date', 'Title', 'Popularity', 'Vote_Count', 'Vote_Average',\n",
       "       'Genre'],\n",
       "      dtype='object')"
      ]
     },
     "execution_count": 17,
     "metadata": {},
     "output_type": "execute_result"
    }
   ],
   "source": [
    "df.columns # check that columns are dropped or not"
   ]
  },
  {
   "cell_type": "code",
   "execution_count": 18,
   "metadata": {},
   "outputs": [
    {
     "data": {
      "text/plain": [
       "array([ 8. ,  7.9,  8.2,  7.7,  7.6,  8.1,  7.2,  7.5,  7.8,  8.4,  7.3,\n",
       "        6.9,  6.8,  6.2,  7.4,  8.3,  7.1,  6.5,  6.4,  6.6,  7. ,  5.9,\n",
       "        6.3,  6.7,  8.5,  6.1,  5.8,  nan,  5.4,  5.3,  4.9,  5. ,  5.2,\n",
       "        3.2,  4.1,  5.7,  8.7,  3.9,  4.8,  4.5,  5.6,  8.6,  5.5,  6. ,\n",
       "        5.1,  4.6,  4.3,  4.7,  3.3,  3.1,  4.4,  3. ,  4. ,  4.2,  2.4,\n",
       "        0. ,  3.5,  3.4,  2.9,  3.6,  3.8,  2.8,  8.8,  2. ,  3.7,  1.8,\n",
       "        2.5,  9. ,  9.2,  8.9,  9.1, 10. ,  2.6,  1.5,  2.2])"
      ]
     },
     "execution_count": 18,
     "metadata": {},
     "output_type": "execute_result"
    }
   ],
   "source": [
    "df['Vote_Average'].unique()"
   ]
  },
  {
   "cell_type": "code",
   "execution_count": 19,
   "metadata": {},
   "outputs": [
    {
     "data": {
      "text/plain": [
       "6.43897320973821"
      ]
     },
     "execution_count": 19,
     "metadata": {},
     "output_type": "execute_result"
    }
   ],
   "source": [
    "# calculate meanvalue from value_Average column and fill where nan\n",
    "mean_value = df['Vote_Average'].mean()\n",
    "mean_value"
   ]
  },
  {
   "cell_type": "code",
   "execution_count": 20,
   "metadata": {},
   "outputs": [],
   "source": [
    "# replace nan with mean_value\n",
    "df['Vote_Average'] = df['Vote_Average'].fillna(mean_value)"
   ]
  },
  {
   "cell_type": "code",
   "execution_count": 21,
   "metadata": {},
   "outputs": [],
   "source": [
    "# for Vote_average column create categorize_col function \n",
    "def categorize_col(df, col, labels):\n",
    "    \"\"\"\n",
    "    Categorize a column into bins based on quartiles.\n",
    "\n",
    "    Parameters:\n",
    "        df (pd.DataFrame): The input DataFrame.\n",
    "        col (str): The column to be categorized.\n",
    "        labels (list): The labels for the bins.\n",
    "\n",
    "    Returns:\n",
    "        pd.DataFrame: DataFrame with the categorized column.\n",
    "    \"\"\"\n",
    "    # Define edges using quartiles\n",
    "    edges = [\n",
    "        df[col].describe()['min'],  # Minimum value\n",
    "        df[col].describe()['25%'],  # 25th percentile\n",
    "        df[col].describe()['50%'],  # Median\n",
    "        df[col].describe()['75%'],  # 75th percentile\n",
    "        df[col].describe()['max']   # Maximum value\n",
    "    ]\n",
    "\n",
    "    # Categorize the column using pd.cut\n",
    "    df[col] = pd.cut(df[col], edges, labels=labels, duplicates='drop')\n",
    "    return df\n"
   ]
  },
  {
   "cell_type": "code",
   "execution_count": 22,
   "metadata": {},
   "outputs": [
    {
     "data": {
      "text/html": [
       "<div>\n",
       "<style scoped>\n",
       "    .dataframe tbody tr th:only-of-type {\n",
       "        vertical-align: middle;\n",
       "    }\n",
       "\n",
       "    .dataframe tbody tr th {\n",
       "        vertical-align: top;\n",
       "    }\n",
       "\n",
       "    .dataframe thead th {\n",
       "        text-align: right;\n",
       "    }\n",
       "</style>\n",
       "<table border=\"1\" class=\"dataframe\">\n",
       "  <thead>\n",
       "    <tr style=\"text-align: right;\">\n",
       "      <th></th>\n",
       "      <th>Release_Date</th>\n",
       "      <th>Title</th>\n",
       "      <th>Popularity</th>\n",
       "      <th>Vote_Count</th>\n",
       "      <th>Vote_Average</th>\n",
       "      <th>Genre</th>\n",
       "    </tr>\n",
       "  </thead>\n",
       "  <tbody>\n",
       "    <tr>\n",
       "      <th>0</th>\n",
       "      <td>1902</td>\n",
       "      <td>A Trip to the Moon</td>\n",
       "      <td>18.356</td>\n",
       "      <td>1284.0</td>\n",
       "      <td>Popular</td>\n",
       "      <td>Adventure, Fantasy, Science Fiction</td>\n",
       "    </tr>\n",
       "    <tr>\n",
       "      <th>1</th>\n",
       "      <td>1920</td>\n",
       "      <td>The Cabinet of Dr. Caligari</td>\n",
       "      <td>17.858</td>\n",
       "      <td>1075.0</td>\n",
       "      <td>Popular</td>\n",
       "      <td>Drama, Horror, Thriller, Crime</td>\n",
       "    </tr>\n",
       "    <tr>\n",
       "      <th>2</th>\n",
       "      <td>1921</td>\n",
       "      <td>The Phantom Carriage</td>\n",
       "      <td>15.371</td>\n",
       "      <td>213.0</td>\n",
       "      <td>Popular</td>\n",
       "      <td>Drama, Fantasy, Horror</td>\n",
       "    </tr>\n",
       "    <tr>\n",
       "      <th>3</th>\n",
       "      <td>1921</td>\n",
       "      <td>The Kid</td>\n",
       "      <td>14.338</td>\n",
       "      <td>1528.0</td>\n",
       "      <td>Popular</td>\n",
       "      <td>Comedy, Drama</td>\n",
       "    </tr>\n",
       "    <tr>\n",
       "      <th>4</th>\n",
       "      <td>1922</td>\n",
       "      <td>Nosferatu</td>\n",
       "      <td>28.638</td>\n",
       "      <td>1406.0</td>\n",
       "      <td>Popular</td>\n",
       "      <td>Fantasy, Horror</td>\n",
       "    </tr>\n",
       "    <tr>\n",
       "      <th>...</th>\n",
       "      <td>...</td>\n",
       "      <td>...</td>\n",
       "      <td>...</td>\n",
       "      <td>...</td>\n",
       "      <td>...</td>\n",
       "      <td>...</td>\n",
       "    </tr>\n",
       "    <tr>\n",
       "      <th>9822</th>\n",
       "      <td>2023</td>\n",
       "      <td>The Little Mermaid</td>\n",
       "      <td>14.016</td>\n",
       "      <td>0.0</td>\n",
       "      <td>NaN</td>\n",
       "      <td>Adventure, Family, Fantasy, Romance</td>\n",
       "    </tr>\n",
       "    <tr>\n",
       "      <th>9823</th>\n",
       "      <td>2023</td>\n",
       "      <td>Transformers: Rise of the Beasts</td>\n",
       "      <td>44.599</td>\n",
       "      <td>0.0</td>\n",
       "      <td>NaN</td>\n",
       "      <td>Action, Science Fiction, Adventure</td>\n",
       "    </tr>\n",
       "    <tr>\n",
       "      <th>9824</th>\n",
       "      <td>2023</td>\n",
       "      <td>The Flash</td>\n",
       "      <td>119.846</td>\n",
       "      <td>0.0</td>\n",
       "      <td>NaN</td>\n",
       "      <td>Action, Adventure, Science Fiction, Fantasy, D...</td>\n",
       "    </tr>\n",
       "    <tr>\n",
       "      <th>9825</th>\n",
       "      <td>2023</td>\n",
       "      <td>Ant-Man and the Wasp: Quantumania</td>\n",
       "      <td>17.050</td>\n",
       "      <td>0.0</td>\n",
       "      <td>NaN</td>\n",
       "      <td>Adventure, Science Fiction, Comedy</td>\n",
       "    </tr>\n",
       "    <tr>\n",
       "      <th>9826</th>\n",
       "      <td>2024</td>\n",
       "      <td>Despicable Me 4</td>\n",
       "      <td>27.987</td>\n",
       "      <td>0.0</td>\n",
       "      <td>NaN</td>\n",
       "      <td>Animation, Family, Comedy, Adventure</td>\n",
       "    </tr>\n",
       "  </tbody>\n",
       "</table>\n",
       "<p>9827 rows × 6 columns</p>\n",
       "</div>"
      ],
      "text/plain": [
       "      Release_Date                              Title  Popularity  Vote_Count  \\\n",
       "0             1902                 A Trip to the Moon      18.356      1284.0   \n",
       "1             1920        The Cabinet of Dr. Caligari      17.858      1075.0   \n",
       "2             1921               The Phantom Carriage      15.371       213.0   \n",
       "3             1921                            The Kid      14.338      1528.0   \n",
       "4             1922                          Nosferatu      28.638      1406.0   \n",
       "...            ...                                ...         ...         ...   \n",
       "9822          2023                 The Little Mermaid      14.016         0.0   \n",
       "9823          2023   Transformers: Rise of the Beasts      44.599         0.0   \n",
       "9824          2023                          The Flash     119.846         0.0   \n",
       "9825          2023  Ant-Man and the Wasp: Quantumania      17.050         0.0   \n",
       "9826          2024                    Despicable Me 4      27.987         0.0   \n",
       "\n",
       "     Vote_Average                                              Genre  \n",
       "0         Popular                Adventure, Fantasy, Science Fiction  \n",
       "1         Popular                     Drama, Horror, Thriller, Crime  \n",
       "2         Popular                             Drama, Fantasy, Horror  \n",
       "3         Popular                                      Comedy, Drama  \n",
       "4         Popular                                    Fantasy, Horror  \n",
       "...           ...                                                ...  \n",
       "9822          NaN                Adventure, Family, Fantasy, Romance  \n",
       "9823          NaN                 Action, Science Fiction, Adventure  \n",
       "9824          NaN  Action, Adventure, Science Fiction, Fantasy, D...  \n",
       "9825          NaN                 Adventure, Science Fiction, Comedy  \n",
       "9826          NaN               Animation, Family, Comedy, Adventure  \n",
       "\n",
       "[9827 rows x 6 columns]"
      ]
     },
     "execution_count": 22,
     "metadata": {},
     "output_type": "execute_result"
    }
   ],
   "source": [
    "labels = ['not_popular', 'below_avg', 'average','Popular']\n",
    "categorize_col(df, 'Vote_Average', labels)\n"
   ]
  },
  {
   "cell_type": "code",
   "execution_count": 23,
   "metadata": {},
   "outputs": [
    {
     "data": {
      "text/plain": [
       "Vote_Average\n",
       "not_popular    2466\n",
       "Popular        2446\n",
       "average        2408\n",
       "below_avg      2407\n",
       "Name: count, dtype: int64"
      ]
     },
     "execution_count": 23,
     "metadata": {},
     "output_type": "execute_result"
    }
   ],
   "source": [
    "df['Vote_Average'].value_counts()"
   ]
  },
  {
   "cell_type": "code",
   "execution_count": 24,
   "metadata": {},
   "outputs": [
    {
     "data": {
      "text/plain": [
       "Release_Date    0\n",
       "Title           0\n",
       "Popularity      0\n",
       "Vote_Count      0\n",
       "Vote_Average    0\n",
       "Genre           0\n",
       "dtype: int64"
      ]
     },
     "execution_count": 24,
     "metadata": {},
     "output_type": "execute_result"
    }
   ],
   "source": [
    "df.dropna(inplace=True)\n",
    "df.isna().sum()"
   ]
  },
  {
   "cell_type": "markdown",
   "metadata": {},
   "source": [
    "# we'd  split genres into a list and then explode our dataframe to have only one genreper row for each movie"
   ]
  },
  {
   "cell_type": "code",
   "execution_count": 25,
   "metadata": {},
   "outputs": [],
   "source": [
    "df['Genre'] = df['Genre'].str.split(', ')"
   ]
  },
  {
   "cell_type": "markdown",
   "metadata": {},
   "source": [
    "# Explanation of the Code:\n",
    "1. Splitting the Genre Column:\n",
    "```\n",
    "df['Genre'] = df['Genre'].str.split(', ')\n",
    "df = df.explode('genre').reset_index(drop=True)\n",
    "```\n",
    "\n",
    "- This line takes the Genre column in the DataFrame, which is expected to contain string values where multiple genres are separated by a comma and a space (, ).\n",
    " \n",
    "- The .str.split(', ') method splits each string in the Genre column into a list of genres.\n",
    "    - **For example:**\n",
    "        - Before splitting: \"Action, Adventure, Science Fiction\"\n",
    "        - After splitting: [\"Action\", \"Adventure\", \"Science Fiction\"]\n",
    "- Now, the Genre column contains lists instead of strings."
   ]
  },
  {
   "cell_type": "code",
   "execution_count": 26,
   "metadata": {},
   "outputs": [],
   "source": [
    "df = df.explode('Genre').reset_index(drop=True)"
   ]
  },
  {
   "cell_type": "markdown",
   "metadata": {},
   "source": [
    "## 2. Exploding the Genre Column:\n",
    "```\n",
    "df = df.explode('Genre').reset_index(drop=True)\n",
    "```\n",
    "\n",
    "- The .explode('Genre') is used to transform each element in the Genre column (which is now a list) into a separate row, duplicating all other columns for each genre.\n",
    "  - For example:\n",
    " \n",
    "- **Before exploding:**\n",
    "```\n",
    "Title         ,                                 Genre\n",
    "Spider-Man: No Way Home   [\"Action\", \"Adventure\", \"Science Fiction\"]\n",
    "```\n",
    "\n",
    "\n",
    "- **After exploding:**\n",
    "```\n",
    "Title                  Genre\n",
    "Spider-Man: No Way Home   Action\n",
    "Spider-Man: No Way Home   Adventure\n",
    "Spider-Man: No Way Home   Science Fiction\n",
    "```\n",
    "\n",
    "- The .reset_index(drop=True) resets the index after the explosion, so the DataFrame's index becomes sequential     and consistent."
   ]
  },
  {
   "cell_type": "markdown",
   "metadata": {},
   "source": [
    "## Converting Genre Column to Categorical:\n",
    "- astype('category'): converts the Genre column from its current data type (e.g., object or string) to the      category data type.\n",
    "  \n",
    "- The category data type is useful when a column has a limited set of unique values (categories), such as genres in this case (e.g., \"Action\", \"Drama\", \"Comedy\").\n",
    "  \n",
    "## Why Convert to Category?\n",
    "**Memory Efficiency:**\n",
    "- A categorical column stores each unique value (category) only once, assigning a code to represent each value.   This reduces memory usage compared to object or string types.\n",
    "\n",
    "**Performance:**\n",
    "- Operations like grouping, filtering, or comparisons on categorical columns are faster than on string or object columns.\n",
    "```\n",
    "Genre     non-null  object  # when datatype is object memory used #\n",
    "memory usage: 922.5+ KB\n",
    "```\n",
    "\n",
    "```\n",
    "Genre     non-null  category  # when datatype is category memoey less used.#\n",
    "memory usage: 748.8+ KB\n",
    "```"
   ]
  },
  {
   "cell_type": "code",
   "execution_count": 27,
   "metadata": {},
   "outputs": [
    {
     "data": {
      "text/plain": [
       "CategoricalDtype(categories=['Action', 'Adventure', 'Animation', 'Comedy', 'Crime',\n",
       "                  'Documentary', 'Drama', 'Family', 'Fantasy', 'History',\n",
       "                  'Horror', 'Music', 'Mystery', 'Romance', 'Science Fiction',\n",
       "                  'TV Movie', 'Thriller', 'War', 'Western'],\n",
       ", ordered=False, categories_dtype=object)"
      ]
     },
     "execution_count": 27,
     "metadata": {},
     "output_type": "execute_result"
    }
   ],
   "source": [
    "df['Genre'] = df['Genre'].astype('category')\n",
    "\n",
    "df['Genre'].dtype"
   ]
  },
  {
   "cell_type": "code",
   "execution_count": 28,
   "metadata": {},
   "outputs": [
    {
     "data": {
      "text/plain": [
       "Release_Date     100\n",
       "Title           9405\n",
       "Popularity      8080\n",
       "Vote_Count      3264\n",
       "Vote_Average       4\n",
       "Genre             19\n",
       "dtype: int64"
      ]
     },
     "execution_count": 28,
     "metadata": {},
     "output_type": "execute_result"
    }
   ],
   "source": [
    "df.nunique() # check unique values all columns"
   ]
  },
  {
   "cell_type": "markdown",
   "metadata": {},
   "source": [
    "# Data Visualization"
   ]
  },
  {
   "cell_type": "markdown",
   "metadata": {},
   "source": [
    "## **Q-1.what is the most frequent genre of movies released on Netflix**"
   ]
  },
  {
   "cell_type": "code",
   "execution_count": 29,
   "metadata": {},
   "outputs": [
    {
     "data": {
      "text/plain": [
       "count     25523\n",
       "unique       19\n",
       "top       Drama\n",
       "freq       3713\n",
       "Name: Genre, dtype: object"
      ]
     },
     "execution_count": 29,
     "metadata": {},
     "output_type": "execute_result"
    }
   ],
   "source": [
    "df['Genre'].describe() # top genre is \"Drama\""
   ]
  },
  {
   "cell_type": "code",
   "execution_count": 30,
   "metadata": {},
   "outputs": [
    {
     "data": {
      "text/plain": [
       "Text(0.5, 1.0, 'Genre column distribution')"
      ]
     },
     "execution_count": 30,
     "metadata": {},
     "output_type": "execute_result"
    },
    {
     "data": {
      "image/png": "[encoded data removed]",
      "text/plain": [
       "<Figure size 511.111x500 with 1 Axes>"
      ]
     },
     "metadata": {},
     "output_type": "display_data"
    }
   ],
   "source": [
    "# Graphical Representation\n",
    "sns.catplot(\n",
    "y='Genre' , data=df,kind='count',\n",
    "order=df['Genre'].value_counts().index,\n",
    "color='#4287f5'\n",
    ")\n",
    "\n",
    "plt.title('Genre column distribution')"
   ]
  },
  {
   "cell_type": "markdown",
   "metadata": {},
   "source": [
    "## **Q2. what genres has highest votes?**"
   ]
  },
  {
   "cell_type": "code",
   "execution_count": 31,
   "metadata": {},
   "outputs": [
    {
     "data": {
      "text/plain": [
       "Text(0.5, 1.0, 'Votes Distribution')"
      ]
     },
     "execution_count": 31,
     "metadata": {},
     "output_type": "execute_result"
    },
    {
     "data": {
      "image/png": "[encoded data removed]",
      "text/plain": [
       "<Figure size 511.111x500 with 1 Axes>"
      ]
     },
     "metadata": {},
     "output_type": "display_data"
    }
   ],
   "source": [
    "sns.catplot(\n",
    "y='Vote_Average' , data=df,kind='count',\n",
    "order=df['Vote_Average'].value_counts().index,\n",
    "color='#4287f5'\n",
    ")\n",
    "\n",
    "plt.title('Votes Distribution')"
   ]
  },
  {
   "cell_type": "markdown",
   "metadata": {},
   "source": [
    "### **Q3. what movie got the highest popularity? what's its genre?**"
   ]
  },
  {
   "cell_type": "code",
   "execution_count": 32,
   "metadata": {},
   "outputs": [
    {
     "data": {
      "text/html": [
       "<div>\n",
       "<style scoped>\n",
       "    .dataframe tbody tr th:only-of-type {\n",
       "        vertical-align: middle;\n",
       "    }\n",
       "\n",
       "    .dataframe tbody tr th {\n",
       "        vertical-align: top;\n",
       "    }\n",
       "\n",
       "    .dataframe thead th {\n",
       "        text-align: right;\n",
       "    }\n",
       "</style>\n",
       "<table border=\"1\" class=\"dataframe\">\n",
       "  <thead>\n",
       "    <tr style=\"text-align: right;\">\n",
       "      <th></th>\n",
       "      <th>Release_Date</th>\n",
       "      <th>Title</th>\n",
       "      <th>Popularity</th>\n",
       "      <th>Vote_Count</th>\n",
       "      <th>Vote_Average</th>\n",
       "      <th>Genre</th>\n",
       "    </tr>\n",
       "  </thead>\n",
       "  <tbody>\n",
       "    <tr>\n",
       "      <th>25186</th>\n",
       "      <td>2021</td>\n",
       "      <td>Spider-Man: No Way Home</td>\n",
       "      <td>5083.954</td>\n",
       "      <td>8940.0</td>\n",
       "      <td>Popular</td>\n",
       "      <td>Action</td>\n",
       "    </tr>\n",
       "    <tr>\n",
       "      <th>25187</th>\n",
       "      <td>2021</td>\n",
       "      <td>Spider-Man: No Way Home</td>\n",
       "      <td>5083.954</td>\n",
       "      <td>8940.0</td>\n",
       "      <td>Popular</td>\n",
       "      <td>Adventure</td>\n",
       "    </tr>\n",
       "    <tr>\n",
       "      <th>25188</th>\n",
       "      <td>2021</td>\n",
       "      <td>Spider-Man: No Way Home</td>\n",
       "      <td>5083.954</td>\n",
       "      <td>8940.0</td>\n",
       "      <td>Popular</td>\n",
       "      <td>Science Fiction</td>\n",
       "    </tr>\n",
       "  </tbody>\n",
       "</table>\n",
       "</div>"
      ],
      "text/plain": [
       "       Release_Date                    Title  Popularity  Vote_Count  \\\n",
       "25186          2021  Spider-Man: No Way Home    5083.954      8940.0   \n",
       "25187          2021  Spider-Man: No Way Home    5083.954      8940.0   \n",
       "25188          2021  Spider-Man: No Way Home    5083.954      8940.0   \n",
       "\n",
       "      Vote_Average            Genre  \n",
       "25186      Popular           Action  \n",
       "25187      Popular        Adventure  \n",
       "25188      Popular  Science Fiction  "
      ]
     },
     "execution_count": 32,
     "metadata": {},
     "output_type": "execute_result"
    }
   ],
   "source": [
    "df[df['Popularity']== df['Popularity'].max()]"
   ]
  },
  {
   "cell_type": "markdown",
   "metadata": {},
   "source": [
    "### **Q4. what movie got the lowest popularity? what's its genre?**"
   ]
  },
  {
   "cell_type": "code",
   "execution_count": 33,
   "metadata": {},
   "outputs": [
    {
     "data": {
      "text/html": [
       "<div>\n",
       "<style scoped>\n",
       "    .dataframe tbody tr th:only-of-type {\n",
       "        vertical-align: middle;\n",
       "    }\n",
       "\n",
       "    .dataframe tbody tr th {\n",
       "        vertical-align: top;\n",
       "    }\n",
       "\n",
       "    .dataframe thead th {\n",
       "        text-align: right;\n",
       "    }\n",
       "</style>\n",
       "<table border=\"1\" class=\"dataframe\">\n",
       "  <thead>\n",
       "    <tr style=\"text-align: right;\">\n",
       "      <th></th>\n",
       "      <th>Release_Date</th>\n",
       "      <th>Title</th>\n",
       "      <th>Popularity</th>\n",
       "      <th>Vote_Count</th>\n",
       "      <th>Vote_Average</th>\n",
       "      <th>Genre</th>\n",
       "    </tr>\n",
       "  </thead>\n",
       "  <tbody>\n",
       "    <tr>\n",
       "      <th>2249</th>\n",
       "      <td>1984</td>\n",
       "      <td>Threads</td>\n",
       "      <td>13.354</td>\n",
       "      <td>186.0</td>\n",
       "      <td>Popular</td>\n",
       "      <td>War</td>\n",
       "    </tr>\n",
       "    <tr>\n",
       "      <th>2250</th>\n",
       "      <td>1984</td>\n",
       "      <td>Threads</td>\n",
       "      <td>13.354</td>\n",
       "      <td>186.0</td>\n",
       "      <td>Popular</td>\n",
       "      <td>Drama</td>\n",
       "    </tr>\n",
       "    <tr>\n",
       "      <th>2251</th>\n",
       "      <td>1984</td>\n",
       "      <td>Threads</td>\n",
       "      <td>13.354</td>\n",
       "      <td>186.0</td>\n",
       "      <td>Popular</td>\n",
       "      <td>Science Fiction</td>\n",
       "    </tr>\n",
       "    <tr>\n",
       "      <th>23948</th>\n",
       "      <td>2021</td>\n",
       "      <td>The United States vs. Billie Holiday</td>\n",
       "      <td>13.354</td>\n",
       "      <td>152.0</td>\n",
       "      <td>average</td>\n",
       "      <td>Music</td>\n",
       "    </tr>\n",
       "    <tr>\n",
       "      <th>23949</th>\n",
       "      <td>2021</td>\n",
       "      <td>The United States vs. Billie Holiday</td>\n",
       "      <td>13.354</td>\n",
       "      <td>152.0</td>\n",
       "      <td>average</td>\n",
       "      <td>Drama</td>\n",
       "    </tr>\n",
       "    <tr>\n",
       "      <th>23950</th>\n",
       "      <td>2021</td>\n",
       "      <td>The United States vs. Billie Holiday</td>\n",
       "      <td>13.354</td>\n",
       "      <td>152.0</td>\n",
       "      <td>average</td>\n",
       "      <td>History</td>\n",
       "    </tr>\n",
       "  </tbody>\n",
       "</table>\n",
       "</div>"
      ],
      "text/plain": [
       "       Release_Date                                 Title  Popularity  \\\n",
       "2249           1984                               Threads      13.354   \n",
       "2250           1984                               Threads      13.354   \n",
       "2251           1984                               Threads      13.354   \n",
       "23948          2021  The United States vs. Billie Holiday      13.354   \n",
       "23949          2021  The United States vs. Billie Holiday      13.354   \n",
       "23950          2021  The United States vs. Billie Holiday      13.354   \n",
       "\n",
       "       Vote_Count Vote_Average            Genre  \n",
       "2249        186.0      Popular              War  \n",
       "2250        186.0      Popular            Drama  \n",
       "2251        186.0      Popular  Science Fiction  \n",
       "23948       152.0      average            Music  \n",
       "23949       152.0      average            Drama  \n",
       "23950       152.0      average          History  "
      ]
     },
     "execution_count": 33,
     "metadata": {},
     "output_type": "execute_result"
    }
   ],
   "source": [
    "df[df['Popularity']== df['Popularity'].min()]"
   ]
  },
  {
   "cell_type": "markdown",
   "metadata": {},
   "source": [
    "### **Q5. which year has the most filmmed movies?**"
   ]
  },
  {
   "cell_type": "code",
   "execution_count": 34,
   "metadata": {},
   "outputs": [
    {
     "data": {
      "image/png": "[encoded data removed]",
      "text/plain": [
       "<Figure size 640x480 with 1 Axes>"
      ]
     },
     "metadata": {},
     "output_type": "display_data"
    }
   ],
   "source": [
    "df['Release_Date'].hist()\n",
    "plt.title(\"Yearly distribution\")\n",
    "plt.show()"
   ]
  }
 ],
 "metadata": {
  "kernelspec": {
   "display_name": "base",
   "language": "python",
   "name": "python3"
  },
  "language_info": {
   "codemirror_mode": {
    "name": "ipython",
    "version": 3
   },
   "file_extension": ".py",
   "mimetype": "text/x-python",
   "name": "python",
   "nbconvert_exporter": "python",
   "pygments_lexer": "ipython3",
   "version": "3.12.7"
  }
 },
 "nbformat": 4,
 "nbformat_minor": 2
}
